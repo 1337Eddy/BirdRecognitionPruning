{
 "cells": [
  {
   "cell_type": "markdown",
   "id": "8172d78f",
   "metadata": {},
   "source": [
    "Imports"
   ]
  },
  {
   "cell_type": "code",
   "execution_count": 1,
   "id": "26cbdff9",
   "metadata": {},
   "outputs": [],
   "source": [
    "import torch\n",
    "import torch.nn as nn\n",
    "import torch.nn.functional as F\n",
    "import torchvision\n",
    "import torch.optim as optim\n",
    "import torchvision.transforms as transforms\n",
    "from torchvision import models, datasets\n",
    "from torch.autograd import Variable\n",
    "import shutil\n",
    "\n",
    "import os\n",
    "import numpy as np\n",
    "import pandas as pd \n",
    "\n",
    "import matplotlib.pyplot as plt\n",
    "import seaborn as sns"
   ]
  },
  {
   "cell_type": "markdown",
   "id": "fafb2f6a",
   "metadata": {},
   "source": [
    "Hyperparameters"
   ]
  },
  {
   "cell_type": "code",
   "execution_count": 2,
   "id": "7aa5a041",
   "metadata": {},
   "outputs": [
    {
     "name": "stdout",
     "output_type": "stream",
     "text": [
      "cuda\n"
     ]
    }
   ],
   "source": [
    "device = torch.device(\"cuda\" if torch.cuda.is_available() else \"cpu\")\n",
    "print(device)\n",
    "\n",
    "torch.cuda.manual_seed(1337)\n",
    "\n",
    "batch_size = 100\n",
    "test_batch_size = 1000\n",
    "\n",
    "kwargs = {'num_workers': 16, 'pin_memory': True}"
   ]
  },
  {
   "cell_type": "markdown",
   "id": "ca9bbed2",
   "metadata": {},
   "source": [
    "DataLoaders"
   ]
  },
  {
   "cell_type": "code",
   "execution_count": 3,
   "id": "dc10d126",
   "metadata": {},
   "outputs": [
    {
     "name": "stdout",
     "output_type": "stream",
     "text": [
      "Files already downloaded and verified\n"
     ]
    }
   ],
   "source": [
    "train_loader = torch.utils.data.DataLoader(\n",
    "    datasets.CIFAR10('./data', train=True, download=True,\n",
    "                   transform=transforms.Compose([\n",
    "                       transforms.Pad(4),\n",
    "                       transforms.RandomCrop(32),\n",
    "                       transforms.RandomHorizontalFlip(),\n",
    "                       transforms.ToTensor(),\n",
    "                       transforms.Normalize((0.5, 0.5, 0.5), (0.5, 0.5, 0.5))\n",
    "                   ])),\n",
    "    batch_size=batch_size, shuffle=True, **kwargs)\n",
    "test_loader = torch.utils.data.DataLoader(\n",
    "    datasets.CIFAR10('./data', train=False, transform=transforms.Compose([\n",
    "                       transforms.ToTensor(),\n",
    "                       transforms.Normalize((0.5, 0.5, 0.5), (0.5, 0.5, 0.5))\n",
    "                   ])),\n",
    "    batch_size=test_batch_size, shuffle=True, **kwargs)\n"
   ]
  },
  {
   "cell_type": "markdown",
   "id": "157b38d3",
   "metadata": {},
   "source": [
    "Network Model"
   ]
  },
  {
   "cell_type": "code",
   "execution_count": 4,
   "id": "a3a260f9",
   "metadata": {},
   "outputs": [],
   "source": [
    "class sequential_model(nn.Module):\n",
    "    def __init__(self, layers=None):\n",
    "        super(sequential_model, self).__init__()\n",
    "        if layers == None:\n",
    "            layers = [64, 64, 'M', 128, 128, 'M', 256, 256, 'M', 512, 512, 'M', 512, 512]\n",
    "        num_classes = 10\n",
    "        self.feature = self.make_layers(layers)\n",
    "        self.classifier = nn.Linear(layers[-1], num_classes)\n",
    "    \n",
    "    def make_layers(self, structure):\n",
    "        layers = []\n",
    "        in_channels = 3\n",
    "        for v in structure:\n",
    "            if v == 'M':\n",
    "                layers += [nn.MaxPool2d(kernel_size=2, stride=2)]\n",
    "            else:\n",
    "                conv2d = nn.Conv2d(in_channels, v, kernel_size=3, padding=1, bias=False)\n",
    "                layers += [conv2d, nn.BatchNorm2d(v), nn.ReLU(inplace=True)]\n",
    "                in_channels = v\n",
    "        return nn.Sequential(*layers)\n",
    "    \n",
    "    def forward(self, x):\n",
    "        x = self.feature(x)\n",
    "        x = nn.AvgPool2d(2)(x)\n",
    "        x = x.view(x.size(0), -1)\n",
    "        y = self.classifier(x)\n",
    "        return y"
   ]
  },
  {
   "cell_type": "markdown",
   "id": "b384366c",
   "metadata": {},
   "source": [
    "Train Epoch method"
   ]
  },
  {
   "cell_type": "code",
   "execution_count": 5,
   "id": "9185a52f",
   "metadata": {},
   "outputs": [],
   "source": [
    "def train(model, epoch, optimizer, data_loader=train_loader):\n",
    "    model.train()\n",
    "    for idx, (data, target) in enumerate(data_loader):\n",
    "        data, target = data.cuda(), target.cuda()\n",
    "        data, target = Variable(data), Variable(target)\n",
    "        optimizer.zero_grad()\n",
    "        output = model(data)\n",
    "        loss = F.cross_entropy(output, target)\n",
    "        loss.backward()\n",
    "        optimizer.step()\n",
    "            \n",
    "        if idx % 100 == 0:\n",
    "            print('Train Epoch: {} [{}/{} ({:.1f}%)]\\tLoss: {:.6f}'.format(\n",
    "            epoch, idx * len(data), len(data_loader.dataset),\n",
    "            100. * idx / len(data_loader), loss.data.item()))"
   ]
  },
  {
   "cell_type": "markdown",
   "id": "104ccbed",
   "metadata": {},
   "source": [
    "Validation Method"
   ]
  },
  {
   "cell_type": "code",
   "execution_count": 6,
   "id": "64616749",
   "metadata": {},
   "outputs": [],
   "source": [
    "def test(model, data_loader=test_loader):\n",
    "    model.eval()\n",
    "    test_loss = 0\n",
    "    correct = 0\n",
    "    for data, target in data_loader:\n",
    "        data, target = data.cuda(), target.cuda()\n",
    "        data, target = Variable(data, volatile=True), Variable(target)        \n",
    "        output = model(data)\n",
    "        test_loss += F.cross_entropy(output, target, size_average=False).data.item()\n",
    "        pred = output.data.max(1, keepdim=True)[1]\n",
    "        correct += pred.eq(target.data.view_as(pred)).cpu().sum()\n",
    "        test_loss /= len(data_loader.dataset)\n",
    "    print('\\nTest set: Average loss: {:.4f}, Accuracy: {}/{} ({:.1f}%)\\n'.format(\n",
    "        test_loss, correct, len(data_loader.dataset),\n",
    "        100. * correct / len(data_loader.dataset)))\n",
    "    return correct / float(len(data_loader.dataset))   "
   ]
  },
  {
   "cell_type": "markdown",
   "id": "16c9e176",
   "metadata": {},
   "source": [
    "Save Model Method"
   ]
  },
  {
   "cell_type": "code",
   "execution_count": 7,
   "id": "d69e408f",
   "metadata": {},
   "outputs": [],
   "source": [
    "def save_checkpoint(state, is_best, filename='checkpoint_sr.pth.tar'):\n",
    "    torch.save(state, filename)\n",
    "    if is_best:\n",
    "        shutil.copyfile(filename, 'model_best_sr.pth.tar')"
   ]
  },
  {
   "cell_type": "markdown",
   "id": "1ee8eaf6",
   "metadata": {},
   "source": [
    "Train network method"
   ]
  },
  {
   "cell_type": "code",
   "execution_count": 8,
   "id": "c56d6591",
   "metadata": {},
   "outputs": [],
   "source": [
    "def train_model(model, epochs=10):\n",
    "    model.cuda()\n",
    "    optimizer = optim.Adam(model.parameters())\n",
    "    best_prec = 0.\n",
    "    for i in range(0, epochs):\n",
    "        train(model, i, optimizer)\n",
    "        prec = test(model)\n",
    "        is_best = prec > best_prec\n",
    "        best_prec1 = max(prec, best_prec)\n",
    "        save_checkpoint({\n",
    "            'epoch': i + 1,\n",
    "            'state_dict': model.state_dict(),\n",
    "            'best_prec1': best_prec,\n",
    "            'optimizer': optimizer.state_dict(),\n",
    "        }, is_best)\n",
    "    return model"
   ]
  },
  {
   "cell_type": "markdown",
   "id": "3e437c00",
   "metadata": {},
   "source": [
    "Load existing Model method"
   ]
  },
  {
   "cell_type": "code",
   "execution_count": 9,
   "id": "7e486d28",
   "metadata": {},
   "outputs": [],
   "source": [
    "def load_model(checkpoint_path=\"checkpoint_sr.pth.tar\", model_path=\"model_best_sr.pth.tar\"):\n",
    "    model = sequential_model()\n",
    "    model.cuda()\n",
    "    if os.path.isfile(model_path):\n",
    "        print(\"=> loading checkpoint '{}'\".format(model_path))\n",
    "        checkpoint_path = torch.load(model_path)\n",
    "        best_prec1 = checkpoint_path['best_prec1']\n",
    "        model.load_state_dict(checkpoint_path['state_dict'])\n",
    "        print(\"=> loaded checkpoint '{}' (epoch {}) Prec1: {:f}\"\n",
    "              .format(model, checkpoint_path['epoch'], best_prec1))\n",
    "    else:\n",
    "        print(\"=> no checkpoint found at\")\n",
    "    return model"
   ]
  },
  {
   "cell_type": "markdown",
   "id": "2ed040a0",
   "metadata": {},
   "source": [
    "Select weak channels"
   ]
  },
  {
   "cell_type": "code",
   "execution_count": 10,
   "id": "59ad7faf",
   "metadata": {},
   "outputs": [],
   "source": [
    "def selectChannels(model, percent=0.2):\n",
    "    total = 0\n",
    "    for m in model.modules():\n",
    "        if isinstance(m, nn.BatchNorm2d):\n",
    "            total += m.weight.data.shape[0]\n",
    "\n",
    "    bn = torch.zeros(total)\n",
    "    index = 0\n",
    "    for m in model.modules():\n",
    "        if isinstance(m, nn.BatchNorm2d):\n",
    "            size = m.weight.data.shape[0]\n",
    "            bn[index:(index+size)] = m.weight.data.abs().clone()\n",
    "            index += size\n",
    "\n",
    "    y, i = torch.sort(bn)\n",
    "    thre_index = int(total * percent)\n",
    "    thre = y[thre_index]\n",
    "\n",
    "    pruned = 0\n",
    "    cfg = []\n",
    "    cfg_mask = []\n",
    "    for k, m in enumerate(model.modules()):\n",
    "        if isinstance(m, nn.BatchNorm2d):\n",
    "            weight_copy = m.weight.data.clone()\n",
    "            print(type(weight_copy.abs().gt(thre).float()))\n",
    "            #mask is a matrix in which 1 marks the channels which are kept and 0 marks the pruned channels\n",
    "            mask = weight_copy.abs().gt(thre).float().cuda()          \n",
    "            #pruned is the number of all pruned channels \n",
    "            pruned = pruned + mask.shape[0] - torch.sum(mask)\n",
    "            m.weight.data.mul_(mask)\n",
    "            m.bias.data.mul_(mask)\n",
    "            cfg.append(int(torch.sum(mask)))\n",
    "            cfg_mask.append(mask.clone())\n",
    "            print('layer index: {:d} \\t total channel: {:d} \\t remaining channel: {:d}'.\n",
    "                format(k, mask.shape[0], int(torch.sum(mask))))\n",
    "        elif isinstance(m, nn.MaxPool2d):\n",
    "            cfg.append('M')\n",
    "    return cfg, cfg_mask"
   ]
  },
  {
   "cell_type": "markdown",
   "id": "a572ed46",
   "metadata": {},
   "source": [
    "Build new model and transfer weights from full model to build the new pruned model"
   ]
  },
  {
   "cell_type": "code",
   "execution_count": 11,
   "id": "f9f95ff5",
   "metadata": {},
   "outputs": [],
   "source": [
    "def transfer_params(cfg, cfg_mask, model):\n",
    "    newmodel = sequential_model(layers=cfg)\n",
    "    newmodel.cuda() \n",
    "\n",
    "    layer_id_in_cfg = 0\n",
    "    start_mask = torch.ones(3)\n",
    "    end_mask = cfg_mask[layer_id_in_cfg]\n",
    "    for [m0, m1] in zip(model.modules(), newmodel.modules()):\n",
    "        if isinstance(m0, nn.BatchNorm2d):\n",
    "            idx1 = np.squeeze(np.argwhere(np.asarray(end_mask.cpu().numpy())))\n",
    "            m1.weight.data = m0.weight.data[idx1].clone()\n",
    "            m1.bias.data = m0.bias.data[idx1].clone()\n",
    "            m1.running_mean = m0.running_mean[idx1].clone()\n",
    "            m1.running_var = m0.running_var[idx1].clone()\n",
    "            layer_id_in_cfg += 1\n",
    "            start_mask = end_mask.clone()\n",
    "            if layer_id_in_cfg < len(cfg_mask):  # do not change in Final FC\n",
    "                end_mask = cfg_mask[layer_id_in_cfg]\n",
    "        elif isinstance(m0, nn.Conv2d):\n",
    "            idx0 = np.squeeze(np.argwhere(np.asarray(start_mask.cpu().numpy())))\n",
    "            idx1 = np.squeeze(np.argwhere(np.asarray(end_mask.cpu().numpy())))\n",
    "            print('In shape: {:d} Out shape:{:d}'.format(idx0.shape[0], idx1.shape[0]))\n",
    "            w = m0.weight.data[:, idx0, :, :].clone()\n",
    "            w = w[idx1, :, :, :].clone()\n",
    "            m1.weight.data = w.clone()\n",
    "            # m1.bias.data = m0.bias.data[idx1].clone()\n",
    "        elif isinstance(m0, nn.Linear):\n",
    "            idx0 = np.squeeze(np.argwhere(np.asarray(start_mask.cpu().numpy())))\n",
    "            m1.weight.data = m0.weight.data[:, idx0].clone()    \n",
    "    return newmodel"
   ]
  },
  {
   "cell_type": "markdown",
   "id": "232b707b",
   "metadata": {},
   "source": [
    "Prune trained model"
   ]
  },
  {
   "cell_type": "code",
   "execution_count": 12,
   "id": "f73c655b",
   "metadata": {},
   "outputs": [],
   "source": [
    "def prune_model(model):\n",
    "    cfg, cfg_mask = selectChannels(model)\n",
    "    prune_model = transfer_params(cfg, cfg_mask, model)\n",
    "    torch.save({'cfg': cfg, 'state_dict': prune_model.state_dict()}, f='pruned_model.pt')"
   ]
  },
  {
   "cell_type": "code",
   "execution_count": 13,
   "id": "3d18d933",
   "metadata": {},
   "outputs": [
    {
     "name": "stdout",
     "output_type": "stream",
     "text": [
      "Train Epoch: 0 [0/50000 (0.0%)]\tLoss: 2.358339\n",
      "Train Epoch: 0 [10000/50000 (20.0%)]\tLoss: 1.613480\n",
      "Train Epoch: 0 [20000/50000 (40.0%)]\tLoss: 1.497690\n",
      "Train Epoch: 0 [30000/50000 (60.0%)]\tLoss: 1.273527\n",
      "Train Epoch: 0 [40000/50000 (80.0%)]\tLoss: 1.273037\n"
     ]
    },
    {
     "name": "stderr",
     "output_type": "stream",
     "text": [
      "<ipython-input-6-b867419ee5b2>:7: UserWarning: volatile was removed and now has no effect. Use `with torch.no_grad():` instead.\n",
      "  data, target = Variable(data, volatile=True), Variable(target)\n",
      "/home/eddy/Programme/anaconda3/lib/python3.8/site-packages/torch/nn/_reduction.py:42: UserWarning: size_average and reduce args will be deprecated, please use reduction='sum' instead.\n",
      "  warnings.warn(warning.format(ret))\n"
     ]
    },
    {
     "name": "stdout",
     "output_type": "stream",
     "text": [
      "\n",
      "Test set: Average loss: 0.1269, Accuracy: 5531/10000 (55.3%)\n",
      "\n",
      "Train Epoch: 1 [0/50000 (0.0%)]\tLoss: 1.207371\n",
      "Train Epoch: 1 [10000/50000 (20.0%)]\tLoss: 1.119919\n",
      "Train Epoch: 1 [20000/50000 (40.0%)]\tLoss: 0.764914\n",
      "Train Epoch: 1 [30000/50000 (60.0%)]\tLoss: 0.797831\n",
      "Train Epoch: 1 [40000/50000 (80.0%)]\tLoss: 0.855866\n",
      "\n",
      "Test set: Average loss: 0.0870, Accuracy: 6819/10000 (68.2%)\n",
      "\n",
      "Train Epoch: 2 [0/50000 (0.0%)]\tLoss: 0.801125\n",
      "Train Epoch: 2 [10000/50000 (20.0%)]\tLoss: 0.569262\n",
      "Train Epoch: 2 [20000/50000 (40.0%)]\tLoss: 0.762219\n",
      "Train Epoch: 2 [30000/50000 (60.0%)]\tLoss: 0.736309\n",
      "Train Epoch: 2 [40000/50000 (80.0%)]\tLoss: 0.690340\n",
      "\n",
      "Test set: Average loss: 0.0689, Accuracy: 7500/10000 (75.0%)\n",
      "\n",
      "Train Epoch: 3 [0/50000 (0.0%)]\tLoss: 0.654142\n",
      "Train Epoch: 3 [10000/50000 (20.0%)]\tLoss: 0.348463\n",
      "Train Epoch: 3 [20000/50000 (40.0%)]\tLoss: 0.719418\n",
      "Train Epoch: 3 [30000/50000 (60.0%)]\tLoss: 0.496248\n",
      "Train Epoch: 3 [40000/50000 (80.0%)]\tLoss: 0.676803\n",
      "\n",
      "Test set: Average loss: 0.0608, Accuracy: 7953/10000 (79.5%)\n",
      "\n",
      "Train Epoch: 4 [0/50000 (0.0%)]\tLoss: 0.552753\n",
      "Train Epoch: 4 [10000/50000 (20.0%)]\tLoss: 0.502135\n",
      "Train Epoch: 4 [20000/50000 (40.0%)]\tLoss: 0.599127\n",
      "Train Epoch: 4 [30000/50000 (60.0%)]\tLoss: 0.530666\n",
      "Train Epoch: 4 [40000/50000 (80.0%)]\tLoss: 0.631983\n",
      "\n",
      "Test set: Average loss: 0.0589, Accuracy: 7949/10000 (79.5%)\n",
      "\n",
      "Train Epoch: 5 [0/50000 (0.0%)]\tLoss: 0.428062\n",
      "Train Epoch: 5 [10000/50000 (20.0%)]\tLoss: 0.453535\n",
      "Train Epoch: 5 [20000/50000 (40.0%)]\tLoss: 0.517181\n",
      "Train Epoch: 5 [30000/50000 (60.0%)]\tLoss: 0.379433\n",
      "Train Epoch: 5 [40000/50000 (80.0%)]\tLoss: 0.475825\n",
      "\n",
      "Test set: Average loss: 0.0531, Accuracy: 8338/10000 (83.4%)\n",
      "\n",
      "Train Epoch: 6 [0/50000 (0.0%)]\tLoss: 0.291780\n",
      "Train Epoch: 6 [10000/50000 (20.0%)]\tLoss: 0.427032\n",
      "Train Epoch: 6 [20000/50000 (40.0%)]\tLoss: 0.391770\n",
      "Train Epoch: 6 [30000/50000 (60.0%)]\tLoss: 0.484800\n",
      "Train Epoch: 6 [40000/50000 (80.0%)]\tLoss: 0.303768\n",
      "\n",
      "Test set: Average loss: 0.0495, Accuracy: 8415/10000 (84.2%)\n",
      "\n",
      "Train Epoch: 7 [0/50000 (0.0%)]\tLoss: 0.446197\n",
      "Train Epoch: 7 [10000/50000 (20.0%)]\tLoss: 0.448368\n",
      "Train Epoch: 7 [20000/50000 (40.0%)]\tLoss: 0.465666\n",
      "Train Epoch: 7 [30000/50000 (60.0%)]\tLoss: 0.295546\n",
      "Train Epoch: 7 [40000/50000 (80.0%)]\tLoss: 0.472373\n",
      "\n",
      "Test set: Average loss: 0.0410, Accuracy: 8527/10000 (85.3%)\n",
      "\n",
      "Train Epoch: 8 [0/50000 (0.0%)]\tLoss: 0.361523\n",
      "Train Epoch: 8 [10000/50000 (20.0%)]\tLoss: 0.459942\n",
      "Train Epoch: 8 [20000/50000 (40.0%)]\tLoss: 0.314621\n",
      "Train Epoch: 8 [30000/50000 (60.0%)]\tLoss: 0.295544\n",
      "Train Epoch: 8 [40000/50000 (80.0%)]\tLoss: 0.353043\n",
      "\n",
      "Test set: Average loss: 0.0456, Accuracy: 8453/10000 (84.5%)\n",
      "\n",
      "Train Epoch: 9 [0/50000 (0.0%)]\tLoss: 0.344009\n",
      "Train Epoch: 9 [10000/50000 (20.0%)]\tLoss: 0.236393\n",
      "Train Epoch: 9 [20000/50000 (40.0%)]\tLoss: 0.438020\n",
      "Train Epoch: 9 [30000/50000 (60.0%)]\tLoss: 0.347154\n",
      "Train Epoch: 9 [40000/50000 (80.0%)]\tLoss: 0.211852\n",
      "\n",
      "Test set: Average loss: 0.0376, Accuracy: 8586/10000 (85.9%)\n",
      "\n"
     ]
    }
   ],
   "source": [
    "model = train_model(sequential_model())"
   ]
  },
  {
   "cell_type": "code",
   "execution_count": 14,
   "id": "55355c9f",
   "metadata": {},
   "outputs": [
    {
     "name": "stdout",
     "output_type": "stream",
     "text": [
      "<class 'torch.Tensor'>\n",
      "layer index: 3 \t total channel: 64 \t remaining channel: 26\n",
      "<class 'torch.Tensor'>\n",
      "layer index: 6 \t total channel: 64 \t remaining channel: 56\n",
      "<class 'torch.Tensor'>\n",
      "layer index: 10 \t total channel: 128 \t remaining channel: 112\n",
      "<class 'torch.Tensor'>\n",
      "layer index: 13 \t total channel: 128 \t remaining channel: 106\n",
      "<class 'torch.Tensor'>\n",
      "layer index: 17 \t total channel: 256 \t remaining channel: 196\n",
      "<class 'torch.Tensor'>\n",
      "layer index: 20 \t total channel: 256 \t remaining channel: 187\n",
      "<class 'torch.Tensor'>\n",
      "layer index: 24 \t total channel: 512 \t remaining channel: 376\n",
      "<class 'torch.Tensor'>\n",
      "layer index: 27 \t total channel: 512 \t remaining channel: 427\n",
      "<class 'torch.Tensor'>\n",
      "layer index: 31 \t total channel: 512 \t remaining channel: 441\n",
      "<class 'torch.Tensor'>\n",
      "layer index: 34 \t total channel: 512 \t remaining channel: 428\n",
      "In shape: 3 Out shape:26\n",
      "In shape: 26 Out shape:56\n",
      "In shape: 56 Out shape:112\n",
      "In shape: 112 Out shape:106\n",
      "In shape: 106 Out shape:196\n",
      "In shape: 196 Out shape:187\n",
      "In shape: 187 Out shape:376\n",
      "In shape: 376 Out shape:427\n",
      "In shape: 427 Out shape:441\n",
      "In shape: 441 Out shape:428\n"
     ]
    }
   ],
   "source": [
    "prune_model(model)"
   ]
  },
  {
   "cell_type": "code",
   "execution_count": 15,
   "id": "1a209aa8",
   "metadata": {},
   "outputs": [
    {
     "name": "stderr",
     "output_type": "stream",
     "text": [
      "<ipython-input-6-b867419ee5b2>:7: UserWarning: volatile was removed and now has no effect. Use `with torch.no_grad():` instead.\n",
      "  data, target = Variable(data, volatile=True), Variable(target)\n"
     ]
    },
    {
     "name": "stdout",
     "output_type": "stream",
     "text": [
      "\n",
      "Test set: Average loss: 0.2018, Accuracy: 3968/10000 (39.7%)\n",
      "\n"
     ]
    },
    {
     "data": {
      "text/plain": [
       "tensor(0.3968)"
      ]
     },
     "execution_count": 15,
     "metadata": {},
     "output_type": "execute_result"
    }
   ],
   "source": [
    "safed = torch.load('pruned_model.pt')\n",
    "structure = safed['cfg']\n",
    "weights = safed['state_dict']\n",
    "pruned_model = sequential_model(structure)\n",
    "pruned_model.load_state_dict(weights)\n",
    "pruned_model.cuda()\n",
    "test(pruned_model)"
   ]
  },
  {
   "cell_type": "code",
   "execution_count": null,
   "id": "84fad5b0",
   "metadata": {},
   "outputs": [],
   "source": [
    "fine_tuned_model = train_model(pruned_model, epochs=3)\n",
    "test(fine_tuned_model)"
   ]
  },
  {
   "cell_type": "code",
   "execution_count": null,
   "id": "d8ede1f6",
   "metadata": {},
   "outputs": [],
   "source": []
  },
  {
   "cell_type": "code",
   "execution_count": null,
   "id": "f7864d5a",
   "metadata": {},
   "outputs": [],
   "source": []
  }
 ],
 "metadata": {
  "kernelspec": {
   "display_name": "Python 3",
   "language": "python",
   "name": "python3"
  },
  "language_info": {
   "codemirror_mode": {
    "name": "ipython",
    "version": 3
   },
   "file_extension": ".py",
   "mimetype": "text/x-python",
   "name": "python",
   "nbconvert_exporter": "python",
   "pygments_lexer": "ipython3",
   "version": "3.8.8"
  }
 },
 "nbformat": 4,
 "nbformat_minor": 5
}
