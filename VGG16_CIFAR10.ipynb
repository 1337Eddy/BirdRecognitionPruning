{
 "cells": [
  {
   "cell_type": "code",
   "execution_count": 46,
   "id": "97a2c54d",
   "metadata": {},
   "outputs": [
    {
     "name": "stdout",
     "output_type": "stream",
     "text": [
      "cuda\n"
     ]
    }
   ],
   "source": [
    "import torch\n",
    "import torch.nn as nn\n",
    "import torch.nn.functional as F\n",
    "import torchvision\n",
    "import torchvision.transforms as transforms\n",
    "from torchvision import models \n",
    "\n",
    "import numpy as np\n",
    "import pandas as pd \n",
    "\n",
    "import matplotlib.pyplot as plt\n",
    "import seaborn as sns\n",
    "\n",
    "device = torch.device(\"cuda\" if torch.cuda.is_available() else \"cpu\")\n",
    "print(device)\n",
    "\n",
    "num_epochs = 5\n",
    "batch_size = 40\n",
    "learning_rate = 0.001\n",
    "\n",
    "classes = ('plane', 'car' , 'bird',\n",
    "    'cat', 'deer', 'dog',\n",
    "    'frog', 'horse', 'ship', 'truck')"
   ]
  },
  {
   "cell_type": "code",
   "execution_count": 47,
   "id": "bcc868d6",
   "metadata": {},
   "outputs": [
    {
     "name": "stdout",
     "output_type": "stream",
     "text": [
      "Downloading https://www.cs.toronto.edu/~kriz/cifar-10-python.tar.gz to ./data/cifar-10-python.tar.gz\n"
     ]
    },
    {
     "data": {
      "application/vnd.jupyter.widget-view+json": {
       "model_id": "4162720071e64057b9a0a34a99af020a",
       "version_major": 2,
       "version_minor": 0
      },
      "text/plain": [
       "  0%|          | 0/170498071 [00:00<?, ?it/s]"
      ]
     },
     "metadata": {},
     "output_type": "display_data"
    },
    {
     "name": "stdout",
     "output_type": "stream",
     "text": [
      "Extracting ./data/cifar-10-python.tar.gz to ./data\n",
      "Files already downloaded and verified\n"
     ]
    }
   ],
   "source": [
    "transform = transforms.Compose([\n",
    "    transforms.Resize(size=(224, 224)),\n",
    "    transforms.ToTensor(),\n",
    "    transforms.Normalize( \n",
    "       (0.4914, 0.4822, 0.4465), (0.2023, 0.1994, 0.2010) \n",
    "    )\n",
    "])\n",
    "\n",
    "train_dataset = torchvision.datasets.CIFAR10(\n",
    "    root= './data', train = True,\n",
    "    download =True, transform = transform)\n",
    "\n",
    "test_dataset = torchvision.datasets.CIFAR10(\n",
    "    root= './data', train = False,\n",
    "    download =True, transform = transform)"
   ]
  },
  {
   "cell_type": "code",
   "execution_count": 48,
   "id": "515a87b1",
   "metadata": {},
   "outputs": [
    {
     "name": "stdout",
     "output_type": "stream",
     "text": [
      "1250\n"
     ]
    }
   ],
   "source": [
    "train_loader = torch.utils.data.DataLoader(train_dataset\n",
    "    , batch_size = batch_size\n",
    "    , shuffle = True)\n",
    "\n",
    "test_loader = torch.utils.data.DataLoader(test_dataset\n",
    "    , batch_size = batch_size\n",
    "    , shuffle = True)\n",
    "\n",
    "n_total_step = len(train_loader)\n",
    "print(n_total_step)"
   ]
  },
  {
   "cell_type": "code",
   "execution_count": 50,
   "id": "4b0100ee",
   "metadata": {},
   "outputs": [
    {
     "name": "stderr",
     "output_type": "stream",
     "text": [
      "Downloading: \"https://download.pytorch.org/models/vgg16-397923af.pth\" to /home/eddy/.cache/torch/hub/checkpoints/vgg16-397923af.pth\n"
     ]
    },
    {
     "data": {
      "application/vnd.jupyter.widget-view+json": {
       "model_id": "d5c5f5778570496fb57679930a8ad8f4",
       "version_major": 2,
       "version_minor": 0
      },
      "text/plain": [
       "  0%|          | 0.00/528M [00:00<?, ?B/s]"
      ]
     },
     "metadata": {},
     "output_type": "display_data"
    }
   ],
   "source": [
    "model = models.vgg16(pretrained = True)\n",
    "input_lastLayer = model.classifier[6].in_features\n",
    "model.classifier[6] = nn.Linear(input_lastLayer,10)\n",
    "model = model.to(device)\n",
    "criterion = nn.CrossEntropyLoss()\n",
    "optimizer = torch.optim.SGD(model.parameters(), lr = learning_rate, momentum=0.9,weight_decay=5e-4)"
   ]
  },
  {
   "cell_type": "code",
   "execution_count": 55,
   "id": "bd3d8c9a",
   "metadata": {},
   "outputs": [
    {
     "name": "stdout",
     "output_type": "stream",
     "text": [
      "epoch 1/5, step: 250/1250: loss = 0.44248, acc = 85.00%\n",
      "epoch 1/5, step: 500/1250: loss = 0.27348, acc = 92.50%\n",
      "epoch 1/5, step: 750/1250: loss = 0.38312, acc = 92.50%\n",
      "epoch 1/5, step: 1000/1250: loss = 0.21015, acc = 90.00%\n",
      "epoch 1/5, step: 1250/1250: loss = 0.23243, acc = 87.50%\n",
      "\n",
      "epoch 2/5, step: 250/1250: loss = 0.20257, acc = 92.50%\n",
      "epoch 2/5, step: 500/1250: loss = 0.33113, acc = 82.50%\n",
      "epoch 2/5, step: 750/1250: loss = 0.21629, acc = 92.50%\n",
      "epoch 2/5, step: 1000/1250: loss = 0.19868, acc = 90.00%\n",
      "epoch 2/5, step: 1250/1250: loss = 0.14304, acc = 92.50%\n",
      "\n",
      "epoch 3/5, step: 250/1250: loss = 0.04632, acc = 97.50%\n",
      "epoch 3/5, step: 500/1250: loss = 0.13874, acc = 92.50%\n",
      "epoch 3/5, step: 750/1250: loss = 0.15035, acc = 95.00%\n",
      "epoch 3/5, step: 1000/1250: loss = 0.04548, acc = 100.00%\n",
      "epoch 3/5, step: 1250/1250: loss = 0.05876, acc = 97.50%\n",
      "\n",
      "epoch 4/5, step: 250/1250: loss = 0.01285, acc = 100.00%\n",
      "epoch 4/5, step: 500/1250: loss = 0.16117, acc = 92.50%\n",
      "epoch 4/5, step: 750/1250: loss = 0.13210, acc = 92.50%\n",
      "epoch 4/5, step: 1000/1250: loss = 0.07076, acc = 97.50%\n",
      "epoch 4/5, step: 1250/1250: loss = 0.01849, acc = 100.00%\n",
      "\n",
      "epoch 5/5, step: 250/1250: loss = 0.02415, acc = 100.00%\n",
      "epoch 5/5, step: 500/1250: loss = 0.09555, acc = 97.50%\n",
      "epoch 5/5, step: 750/1250: loss = 0.01882, acc = 100.00%\n",
      "epoch 5/5, step: 1000/1250: loss = 0.02620, acc = 100.00%\n",
      "epoch 5/5, step: 1250/1250: loss = 0.05455, acc = 97.50%\n",
      "\n"
     ]
    }
   ],
   "source": [
    "for epoch in range(num_epochs):\n",
    "    for i, (imgs, labels) in enumerate(train_loader):\n",
    "        imgs = imgs.to(device)\n",
    "        labels = labels.to(device)\n",
    "        \n",
    "        labels_hat = model(imgs)\n",
    "        n_corrects = (labels_hat.argmax(axis=1)==labels).sum().item()\n",
    "        loss_value = criterion(labels_hat, labels)\n",
    "        loss_value.backward()\n",
    "        optimizer.step()\n",
    "        optimizer.zero_grad()\n",
    "        if (i+1) % 250 == 0:\n",
    "            print(f'epoch {epoch+1}/{num_epochs}, step: {i+1}/{n_total_step}: loss = {loss_value:.5f}, acc = {100*(n_corrects/labels.size(0)):.2f}%')\n",
    "    print()"
   ]
  },
  {
   "cell_type": "code",
   "execution_count": 58,
   "id": "d8d215dd",
   "metadata": {},
   "outputs": [
    {
     "data": {
      "image/png": "[encoded data removed]",
      "text/plain": [
       "<Figure size 720x576 with 2 Axes>"
      ]
     },
     "metadata": {
      "needs_background": "light"
     },
     "output_type": "display_data"
    }
   ],
   "source": [
    "heatmap = pd.DataFrame(data=0,index=classes,columns=classes)\n",
    "with torch.no_grad():\n",
    "    for images, labels in test_loader:\n",
    "        images, labels = images.to(device), labels.to(device)\n",
    "        outputs = model(images)\n",
    "        _, predicted = torch.max(outputs, 1)\n",
    "        c = (predicted == labels).squeeze()\n",
    "        for i in range(batch_size):\n",
    "            true_label = labels[i].item()\n",
    "            predicted_label = predicted[i].item()\n",
    "            heatmap.iloc[true_label,predicted_label] += 1\n",
    "            \n",
    "_, ax = plt.subplots(figsize=(10, 8))\n",
    "ax = sns.heatmap(heatmap, annot=True, fmt=\"d\",cmap=\"YlGnBu\")\n",
    "plt.show()"
   ]
  },
  {
   "cell_type": "code",
   "execution_count": 59,
   "id": "51697606",
   "metadata": {},
   "outputs": [],
   "source": [
    "torch.save(model, 'models/vgg16_CIFAR10_basic')"
   ]
  },
  {
   "cell_type": "code",
   "execution_count": null,
   "id": "6e3ebb9d",
   "metadata": {},
   "outputs": [],
   "source": []
  }
 ],
 "metadata": {
  "kernelspec": {
   "display_name": "Python 3",
   "language": "python",
   "name": "python3"
  },
  "language_info": {
   "codemirror_mode": {
    "name": "ipython",
    "version": 3
   },
   "file_extension": ".py",
   "mimetype": "text/x-python",
   "name": "python",
   "nbconvert_exporter": "python",
   "pygments_lexer": "ipython3",
   "version": "3.8.8"
  }
 },
 "nbformat": 4,
 "nbformat_minor": 5
}
