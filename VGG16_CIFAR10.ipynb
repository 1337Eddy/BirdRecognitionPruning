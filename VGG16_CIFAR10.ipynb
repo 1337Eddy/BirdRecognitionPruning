{
 "cells": [
  {
   "cell_type": "markdown",
   "id": "6ff55d75",
   "metadata": {},
   "source": [
    "Imports"
   ]
  },
  {
   "cell_type": "code",
   "execution_count": 1,
   "id": "c3f960e0",
   "metadata": {},
   "outputs": [],
   "source": [
    "import torch\n",
    "import torch.nn as nn\n",
    "import torch.nn.functional as F\n",
    "import torchvision\n",
    "import torch.optim as optim\n",
    "import torchvision.transforms as transforms\n",
    "from torchvision import models, datasets\n",
    "from torch.autograd import Variable\n",
    "import shutil\n",
    "\n",
    "import os\n",
    "import numpy as np\n",
    "import pandas as pd \n",
    "\n",
    "import matplotlib.pyplot as plt\n",
    "import seaborn as sns"
   ]
  },
  {
   "cell_type": "markdown",
   "id": "9df32533",
   "metadata": {},
   "source": [
    "Hyperparameters"
   ]
  },
  {
   "cell_type": "code",
   "execution_count": 2,
   "id": "6f332436",
   "metadata": {},
   "outputs": [
    {
     "name": "stdout",
     "output_type": "stream",
     "text": [
      "cuda\n"
     ]
    }
   ],
   "source": [
    "device = torch.device(\"cuda\" if torch.cuda.is_available() else \"cpu\")\n",
    "print(device)\n",
    "\n",
    "torch.cuda.manual_seed(1337)\n",
    "\n",
    "batch_size = 100\n",
    "test_batch_size = 1000\n",
    "\n",
    "kwargs = {'num_workers': 16, 'pin_memory': True}"
   ]
  },
  {
   "cell_type": "markdown",
   "id": "02246a99",
   "metadata": {},
   "source": [
    "DataLoaders"
   ]
  },
  {
   "cell_type": "code",
   "execution_count": 3,
   "id": "6ff320b8",
   "metadata": {},
   "outputs": [
    {
     "name": "stdout",
     "output_type": "stream",
     "text": [
      "Files already downloaded and verified\n"
     ]
    }
   ],
   "source": [
    "train_loader = torch.utils.data.DataLoader(\n",
    "    datasets.CIFAR10('./data', train=True, download=True,\n",
    "                   transform=transforms.Compose([\n",
    "                       transforms.Pad(4),\n",
    "                       transforms.RandomCrop(32),\n",
    "                       transforms.RandomHorizontalFlip(),\n",
    "                       transforms.ToTensor(),\n",
    "                       transforms.Normalize((0.5, 0.5, 0.5), (0.5, 0.5, 0.5))\n",
    "                   ])),\n",
    "    batch_size=batch_size, shuffle=True, **kwargs)\n",
    "test_loader = torch.utils.data.DataLoader(\n",
    "    datasets.CIFAR10('./data', train=False, transform=transforms.Compose([\n",
    "                       transforms.ToTensor(),\n",
    "                       transforms.Normalize((0.5, 0.5, 0.5), (0.5, 0.5, 0.5))\n",
    "                   ])),\n",
    "    batch_size=test_batch_size, shuffle=True, **kwargs)\n"
   ]
  },
  {
   "cell_type": "markdown",
   "id": "5ed8d9d7",
   "metadata": {},
   "source": [
    "Network Model"
   ]
  },
  {
   "cell_type": "code",
   "execution_count": 4,
   "id": "a18e19a6",
   "metadata": {},
   "outputs": [],
   "source": [
    "class sequential_model(nn.Module):\n",
    "    def __init__(self, layers=None):\n",
    "        super(sequential_model, self).__init__()\n",
    "        if layers == None:\n",
    "            layers = [64, 64, 'M', 128, 128, 'M', 256, 256, 'M', 512, 512, 'M', 512, 512]\n",
    "        num_classes = 10\n",
    "        self.feature = self.make_layers(layers)\n",
    "        self.classifier = nn.Linear(layers[-1], num_classes)\n",
    "    \n",
    "    def make_layers(self, structure):\n",
    "        layers = []\n",
    "        in_channels = 3\n",
    "        for v in structure:\n",
    "            if v == 'M':\n",
    "                layers += [nn.MaxPool2d(kernel_size=2, stride=2)]\n",
    "            else:\n",
    "                conv2d = nn.Conv2d(in_channels, v, kernel_size=3, padding=1, bias=False)\n",
    "                layers += [conv2d, nn.BatchNorm2d(v), nn.ReLU(inplace=True)]\n",
    "                in_channels = v\n",
    "        return nn.Sequential(*layers)\n",
    "    \n",
    "    def forward(self, x):\n",
    "        x = self.feature(x)\n",
    "        x = nn.AvgPool2d(2)(x)\n",
    "        x = x.view(x.size(0), -1)\n",
    "        y = self.classifier(x)\n",
    "        return y"
   ]
  },
  {
   "cell_type": "markdown",
   "id": "76fd9555",
   "metadata": {},
   "source": [
    "Train Epoch method"
   ]
  },
  {
   "cell_type": "code",
   "execution_count": 5,
   "id": "1f2d20ac",
   "metadata": {},
   "outputs": [],
   "source": [
    "def train(model, epoch, data_loader=train_loader):\n",
    "    model.train()\n",
    "    for idx, (data, target) in enumerate(data_loader):\n",
    "        data, target = data.cuda(), target.cuda()\n",
    "        data, target = Variable(data), Variable(target)\n",
    "        optimizer.zero_grad()\n",
    "        output = model(data)\n",
    "        loss = F.cross_entropy(output, target)\n",
    "        loss.backward()\n",
    "        optimizer.step()\n",
    "            \n",
    "        if idx % 100 == 0:\n",
    "            print('Train Epoch: {} [{}/{} ({:.1f}%)]\\tLoss: {:.6f}'.format(\n",
    "            epoch, idx * len(data), len(data_loader.dataset),\n",
    "            100. * idx / len(data_loader), loss.data.item()))"
   ]
  },
  {
   "cell_type": "markdown",
   "id": "9542a228",
   "metadata": {},
   "source": [
    "Validation Method"
   ]
  },
  {
   "cell_type": "code",
   "execution_count": 6,
   "id": "389a7247",
   "metadata": {},
   "outputs": [],
   "source": [
    "def test(model, data_loader=test_loader):\n",
    "    model.eval()\n",
    "    test_loss = 0\n",
    "    correct = 0\n",
    "    for data, target in data_loader:\n",
    "        data, target = data.cuda(), target.cuda()\n",
    "        data, target = Variable(data, volatile=True), Variable(target)        \n",
    "        output = model(data)\n",
    "        test_loss += F.cross_entropy(output, target, size_average=False).data.item()\n",
    "        pred = output.data.max(1, keepdim=True)[1]\n",
    "        correct += pred.eq(target.data.view_as(pred)).cpu().sum()\n",
    "        test_loss /= len(data_loader.dataset)\n",
    "    print('\\nTest set: Average loss: {:.4f}, Accuracy: {}/{} ({:.1f}%)\\n'.format(\n",
    "        test_loss, correct, len(data_loader.dataset),\n",
    "        100. * correct / len(data_loader.dataset)))\n",
    "    return correct / float(len(data_loader.dataset))   "
   ]
  },
  {
   "cell_type": "markdown",
   "id": "c3034cd5",
   "metadata": {},
   "source": [
    "Save Model Method"
   ]
  },
  {
   "cell_type": "code",
   "execution_count": 7,
   "id": "d0f35129",
   "metadata": {},
   "outputs": [],
   "source": [
    "def save_checkpoint(state, is_best, filename='checkpoint_sr.pth.tar'):\n",
    "    torch.save(state, filename)\n",
    "    if is_best:\n",
    "        shutil.copyfile(filename, 'model_best_sr.pth.tar')"
   ]
  },
  {
   "cell_type": "markdown",
   "id": "a663cd7e",
   "metadata": {},
   "source": [
    "Train network method"
   ]
  },
  {
   "cell_type": "code",
   "execution_count": 8,
   "id": "c1587d01",
   "metadata": {},
   "outputs": [],
   "source": [
    "def train_model(epochs=10):\n",
    "    best_prec = 0.\n",
    "    for i in range(0, epochs):\n",
    "        train(model, i)\n",
    "        prec = test(model)\n",
    "        is_best = prec > best_prec\n",
    "        best_prec1 = max(prec, best_prec)\n",
    "        save_checkpoint({\n",
    "            'epoch': i + 1,\n",
    "            'state_dict': model.state_dict(),\n",
    "            'best_prec1': best_prec,\n",
    "            'optimizer': optimizer.state_dict(),\n",
    "        }, is_best)    "
   ]
  },
  {
   "cell_type": "markdown",
   "id": "1e758377",
   "metadata": {},
   "source": [
    "Load existing Model method"
   ]
  },
  {
   "cell_type": "code",
   "execution_count": 9,
   "id": "d5be6b22",
   "metadata": {},
   "outputs": [],
   "source": [
    "def load_model(checkpoint_path=\"checkpoint_sr.pth.tar\", model_path=\"model_best_sr.pth.tar\"):\n",
    "    model = sequential_model()\n",
    "    model.cuda()\n",
    "    if os.path.isfile(model_path):\n",
    "        print(\"=> loading checkpoint '{}'\".format(model_path))\n",
    "        checkpoint_path = torch.load(model_path)\n",
    "        best_prec1 = checkpoint_path['best_prec1']\n",
    "        model.load_state_dict(checkpoint_path['state_dict'])\n",
    "        print(\"=> loaded checkpoint '{}' (epoch {}) Prec1: {:f}\"\n",
    "              .format(model, checkpoint_path['epoch'], best_prec1))\n",
    "    else:\n",
    "        print(\"=> no checkpoint found at\")\n",
    "    return model"
   ]
  },
  {
   "cell_type": "markdown",
   "id": "dbfe142f",
   "metadata": {},
   "source": [
    "Select weak channels"
   ]
  },
  {
   "cell_type": "code",
   "execution_count": 10,
   "id": "e1ec89f1",
   "metadata": {},
   "outputs": [],
   "source": [
    "def selectChannels(model, percent=0.2):\n",
    "    total = 0\n",
    "    for m in model.modules():\n",
    "        if isinstance(m, nn.BatchNorm2d):\n",
    "            total += m.weight.data.shape[0]\n",
    "\n",
    "    bn = torch.zeros(total)\n",
    "    index = 0\n",
    "    for m in model.modules():\n",
    "        if isinstance(m, nn.BatchNorm2d):\n",
    "            size = m.weight.data.shape[0]\n",
    "            bn[index:(index+size)] = m.weight.data.abs().clone()\n",
    "            index += size\n",
    "\n",
    "    y, i = torch.sort(bn)\n",
    "    thre_index = int(total * percent)\n",
    "    thre = y[thre_index]\n",
    "\n",
    "    pruned = 0\n",
    "    cfg = []\n",
    "    cfg_mask = []\n",
    "    for k, m in enumerate(model.modules()):\n",
    "        if isinstance(m, nn.BatchNorm2d):\n",
    "            weight_copy = m.weight.data.clone()\n",
    "            print(type(weight_copy.abs().gt(thre).float()))\n",
    "            #mask is a matrix in which 1 marks the channels which are kept and 0 marks the pruned channels\n",
    "            mask = weight_copy.abs().gt(thre).float().cuda()          \n",
    "            #pruned is the number of all pruned channels \n",
    "            pruned = pruned + mask.shape[0] - torch.sum(mask)\n",
    "            m.weight.data.mul_(mask)\n",
    "            m.bias.data.mul_(mask)\n",
    "            cfg.append(int(torch.sum(mask)))\n",
    "            cfg_mask.append(mask.clone())\n",
    "            print('layer index: {:d} \\t total channel: {:d} \\t remaining channel: {:d}'.\n",
    "                format(k, mask.shape[0], int(torch.sum(mask))))\n",
    "        elif isinstance(m, nn.MaxPool2d):\n",
    "            cfg.append('M')\n",
    "    return cfg, cfg_mask"
   ]
  },
  {
   "cell_type": "markdown",
   "id": "2bc2315a",
   "metadata": {},
   "source": [
    "Build new model and transfer weights from full model to build the new pruned model"
   ]
  },
  {
   "cell_type": "code",
   "execution_count": 11,
   "id": "a76fefcd",
   "metadata": {},
   "outputs": [],
   "source": [
    "def transfer_params(cfg, cfg_mask, model):\n",
    "    newmodel = sequential_model(layers=cfg)\n",
    "    newmodel.cuda() \n",
    "\n",
    "    layer_id_in_cfg = 0\n",
    "    start_mask = torch.ones(3)\n",
    "    end_mask = cfg_mask[layer_id_in_cfg]\n",
    "    for [m0, m1] in zip(model.modules(), newmodel.modules()):\n",
    "        if isinstance(m0, nn.BatchNorm2d):\n",
    "            idx1 = np.squeeze(np.argwhere(np.asarray(end_mask.cpu().numpy())))\n",
    "            m1.weight.data = m0.weight.data[idx1].clone()\n",
    "            m1.bias.data = m0.bias.data[idx1].clone()\n",
    "            m1.running_mean = m0.running_mean[idx1].clone()\n",
    "            m1.running_var = m0.running_var[idx1].clone()\n",
    "            layer_id_in_cfg += 1\n",
    "            start_mask = end_mask.clone()\n",
    "            if layer_id_in_cfg < len(cfg_mask):  # do not change in Final FC\n",
    "                end_mask = cfg_mask[layer_id_in_cfg]\n",
    "        elif isinstance(m0, nn.Conv2d):\n",
    "            idx0 = np.squeeze(np.argwhere(np.asarray(start_mask.cpu().numpy())))\n",
    "            idx1 = np.squeeze(np.argwhere(np.asarray(end_mask.cpu().numpy())))\n",
    "            print('In shape: {:d} Out shape:{:d}'.format(idx0.shape[0], idx1.shape[0]))\n",
    "            w = m0.weight.data[:, idx0, :, :].clone()\n",
    "            w = w[idx1, :, :, :].clone()\n",
    "            m1.weight.data = w.clone()\n",
    "            # m1.bias.data = m0.bias.data[idx1].clone()\n",
    "        elif isinstance(m0, nn.Linear):\n",
    "            idx0 = np.squeeze(np.argwhere(np.asarray(start_mask.cpu().numpy())))\n",
    "            m1.weight.data = m0.weight.data[:, idx0].clone()    \n",
    "    return newmodel"
   ]
  },
  {
   "cell_type": "markdown",
   "id": "87dfea9f",
   "metadata": {},
   "source": [
    "Prune trained model"
   ]
  },
  {
   "cell_type": "code",
   "execution_count": 12,
   "id": "7db77d75",
   "metadata": {},
   "outputs": [],
   "source": [
    "def prune_model(model):\n",
    "    cfg, cfg_mask = selectChannels(model)\n",
    "    prune_model = transfer_params(cfg, cfg_mask, model)\n",
    "    torch.save({'cfg': cfg, 'state_dict': prune_model.state_dict()}, f='pruned_model.pt')"
   ]
  },
  {
   "cell_type": "code",
   "execution_count": 13,
   "id": "64edd0fe",
   "metadata": {},
   "outputs": [
    {
     "name": "stdout",
     "output_type": "stream",
     "text": [
      "Train Epoch: 0 [0/50000 (0.0%)]\tLoss: 2.345396\n",
      "Train Epoch: 0 [10000/50000 (20.0%)]\tLoss: 1.558161\n",
      "Train Epoch: 0 [20000/50000 (40.0%)]\tLoss: 1.208700\n",
      "Train Epoch: 0 [30000/50000 (60.0%)]\tLoss: 1.267674\n",
      "Train Epoch: 0 [40000/50000 (80.0%)]\tLoss: 0.963205\n"
     ]
    },
    {
     "name": "stderr",
     "output_type": "stream",
     "text": [
      "<ipython-input-6-b867419ee5b2>:7: UserWarning: volatile was removed and now has no effect. Use `with torch.no_grad():` instead.\n",
      "  data, target = Variable(data, volatile=True), Variable(target)\n",
      "/home/eddy/Programme/anaconda3/lib/python3.8/site-packages/torch/nn/_reduction.py:42: UserWarning: size_average and reduce args will be deprecated, please use reduction='sum' instead.\n",
      "  warnings.warn(warning.format(ret))\n"
     ]
    },
    {
     "name": "stdout",
     "output_type": "stream",
     "text": [
      "\n",
      "Test set: Average loss: 0.1109, Accuracy: 6049/10000 (60.5%)\n",
      "\n",
      "Train Epoch: 1 [0/50000 (0.0%)]\tLoss: 1.047161\n",
      "Train Epoch: 1 [10000/50000 (20.0%)]\tLoss: 0.991122\n",
      "Train Epoch: 1 [20000/50000 (40.0%)]\tLoss: 1.087884\n",
      "Train Epoch: 1 [30000/50000 (60.0%)]\tLoss: 0.974490\n",
      "Train Epoch: 1 [40000/50000 (80.0%)]\tLoss: 0.909175\n",
      "\n",
      "Test set: Average loss: 0.0854, Accuracy: 7132/10000 (71.3%)\n",
      "\n",
      "Train Epoch: 2 [0/50000 (0.0%)]\tLoss: 0.887565\n",
      "Train Epoch: 2 [10000/50000 (20.0%)]\tLoss: 0.700180\n",
      "Train Epoch: 2 [20000/50000 (40.0%)]\tLoss: 0.625394\n",
      "Train Epoch: 2 [30000/50000 (60.0%)]\tLoss: 0.590014\n",
      "Train Epoch: 2 [40000/50000 (80.0%)]\tLoss: 0.604534\n",
      "\n",
      "Test set: Average loss: 0.0683, Accuracy: 7572/10000 (75.7%)\n",
      "\n",
      "Train Epoch: 3 [0/50000 (0.0%)]\tLoss: 0.683281\n",
      "Train Epoch: 3 [10000/50000 (20.0%)]\tLoss: 0.526096\n",
      "Train Epoch: 3 [20000/50000 (40.0%)]\tLoss: 0.569014\n",
      "Train Epoch: 3 [30000/50000 (60.0%)]\tLoss: 0.630116\n",
      "Train Epoch: 3 [40000/50000 (80.0%)]\tLoss: 0.502519\n",
      "\n",
      "Test set: Average loss: 0.0637, Accuracy: 7868/10000 (78.7%)\n",
      "\n",
      "Train Epoch: 4 [0/50000 (0.0%)]\tLoss: 0.487608\n",
      "Train Epoch: 4 [10000/50000 (20.0%)]\tLoss: 0.562290\n",
      "Train Epoch: 4 [20000/50000 (40.0%)]\tLoss: 0.574987\n",
      "Train Epoch: 4 [30000/50000 (60.0%)]\tLoss: 0.572792\n",
      "Train Epoch: 4 [40000/50000 (80.0%)]\tLoss: 0.518465\n",
      "\n",
      "Test set: Average loss: 0.0433, Accuracy: 8273/10000 (82.7%)\n",
      "\n",
      "Train Epoch: 5 [0/50000 (0.0%)]\tLoss: 0.463918\n",
      "Train Epoch: 5 [10000/50000 (20.0%)]\tLoss: 0.492890\n",
      "Train Epoch: 5 [20000/50000 (40.0%)]\tLoss: 0.481966\n",
      "Train Epoch: 5 [30000/50000 (60.0%)]\tLoss: 0.502216\n",
      "Train Epoch: 5 [40000/50000 (80.0%)]\tLoss: 0.315285\n",
      "\n",
      "Test set: Average loss: 0.0482, Accuracy: 8358/10000 (83.6%)\n",
      "\n",
      "Train Epoch: 6 [0/50000 (0.0%)]\tLoss: 0.301136\n",
      "Train Epoch: 6 [10000/50000 (20.0%)]\tLoss: 0.440944\n",
      "Train Epoch: 6 [20000/50000 (40.0%)]\tLoss: 0.525514\n",
      "Train Epoch: 6 [30000/50000 (60.0%)]\tLoss: 0.521271\n",
      "Train Epoch: 6 [40000/50000 (80.0%)]\tLoss: 0.537041\n",
      "\n",
      "Test set: Average loss: 0.0439, Accuracy: 8570/10000 (85.7%)\n",
      "\n",
      "Train Epoch: 7 [0/50000 (0.0%)]\tLoss: 0.319441\n",
      "Train Epoch: 7 [10000/50000 (20.0%)]\tLoss: 0.338510\n",
      "Train Epoch: 7 [20000/50000 (40.0%)]\tLoss: 0.468695\n",
      "Train Epoch: 7 [30000/50000 (60.0%)]\tLoss: 0.477417\n",
      "Train Epoch: 7 [40000/50000 (80.0%)]\tLoss: 0.359255\n",
      "\n",
      "Test set: Average loss: 0.0412, Accuracy: 8550/10000 (85.5%)\n",
      "\n",
      "Train Epoch: 8 [0/50000 (0.0%)]\tLoss: 0.272776\n",
      "Train Epoch: 8 [10000/50000 (20.0%)]\tLoss: 0.404286\n",
      "Train Epoch: 8 [20000/50000 (40.0%)]\tLoss: 0.375925\n",
      "Train Epoch: 8 [30000/50000 (60.0%)]\tLoss: 0.357996\n",
      "Train Epoch: 8 [40000/50000 (80.0%)]\tLoss: 0.322640\n",
      "\n",
      "Test set: Average loss: 0.0451, Accuracy: 8459/10000 (84.6%)\n",
      "\n",
      "Train Epoch: 9 [0/50000 (0.0%)]\tLoss: 0.353898\n",
      "Train Epoch: 9 [10000/50000 (20.0%)]\tLoss: 0.296354\n",
      "Train Epoch: 9 [20000/50000 (40.0%)]\tLoss: 0.461960\n",
      "Train Epoch: 9 [30000/50000 (60.0%)]\tLoss: 0.357063\n",
      "Train Epoch: 9 [40000/50000 (80.0%)]\tLoss: 0.228946\n",
      "\n",
      "Test set: Average loss: 0.0395, Accuracy: 8717/10000 (87.2%)\n",
      "\n"
     ]
    }
   ],
   "source": [
    "model = sequential_model()\n",
    "model.cuda()\n",
    "\n",
    "optimizer = optim.Adam(model.parameters())\n",
    "train_model()"
   ]
  },
  {
   "cell_type": "code",
   "execution_count": 14,
   "id": "7687b9a1",
   "metadata": {},
   "outputs": [
    {
     "name": "stdout",
     "output_type": "stream",
     "text": [
      "<class 'torch.Tensor'>\n",
      "layer index: 3 \t total channel: 64 \t remaining channel: 32\n",
      "<class 'torch.Tensor'>\n",
      "layer index: 6 \t total channel: 64 \t remaining channel: 49\n",
      "<class 'torch.Tensor'>\n",
      "layer index: 10 \t total channel: 128 \t remaining channel: 112\n",
      "<class 'torch.Tensor'>\n",
      "layer index: 13 \t total channel: 128 \t remaining channel: 108\n",
      "<class 'torch.Tensor'>\n",
      "layer index: 17 \t total channel: 256 \t remaining channel: 204\n",
      "<class 'torch.Tensor'>\n",
      "layer index: 20 \t total channel: 256 \t remaining channel: 189\n",
      "<class 'torch.Tensor'>\n",
      "layer index: 24 \t total channel: 512 \t remaining channel: 381\n",
      "<class 'torch.Tensor'>\n",
      "layer index: 27 \t total channel: 512 \t remaining channel: 428\n",
      "<class 'torch.Tensor'>\n",
      "layer index: 31 \t total channel: 512 \t remaining channel: 426\n",
      "<class 'torch.Tensor'>\n",
      "layer index: 34 \t total channel: 512 \t remaining channel: 426\n",
      "In shape: 3 Out shape:32\n",
      "In shape: 32 Out shape:49\n",
      "In shape: 49 Out shape:112\n",
      "In shape: 112 Out shape:108\n",
      "In shape: 108 Out shape:204\n",
      "In shape: 204 Out shape:189\n",
      "In shape: 189 Out shape:381\n",
      "In shape: 381 Out shape:428\n",
      "In shape: 428 Out shape:426\n",
      "In shape: 426 Out shape:426\n"
     ]
    }
   ],
   "source": [
    "prune_model(model)"
   ]
  },
  {
   "cell_type": "code",
   "execution_count": 32,
   "id": "fe1aee68",
   "metadata": {},
   "outputs": [
    {
     "name": "stderr",
     "output_type": "stream",
     "text": [
      "<ipython-input-6-b867419ee5b2>:7: UserWarning: volatile was removed and now has no effect. Use `with torch.no_grad():` instead.\n",
      "  data, target = Variable(data, volatile=True), Variable(target)\n",
      "/home/eddy/Programme/anaconda3/lib/python3.8/site-packages/torch/nn/_reduction.py:42: UserWarning: size_average and reduce args will be deprecated, please use reduction='sum' instead.\n",
      "  warnings.warn(warning.format(ret))\n"
     ]
    },
    {
     "name": "stdout",
     "output_type": "stream",
     "text": [
      "\n",
      "Test set: Average loss: 0.2110, Accuracy: 4016/10000 (40.2%)\n",
      "\n"
     ]
    },
    {
     "data": {
      "text/plain": [
       "tensor(0.4016)"
      ]
     },
     "execution_count": 32,
     "metadata": {},
     "output_type": "execute_result"
    }
   ],
   "source": [
    "safed = torch.load('pruned_model.pt')\n",
    "structure = safed['cfg']\n",
    "weights = safed['state_dict']\n",
    "pruned_model = sequential_model(structure)\n",
    "pruned_model.load_state_dict(weights)\n",
    "pruned_model.cuda()\n",
    "test(pruned_model)"
   ]
  },
  {
   "cell_type": "code",
   "execution_count": null,
   "id": "27ca0158",
   "metadata": {},
   "outputs": [],
   "source": []
  },
  {
   "cell_type": "code",
   "execution_count": null,
   "id": "238eb21e",
   "metadata": {},
   "outputs": [],
   "source": []
  },
  {
   "cell_type": "code",
   "execution_count": null,
   "id": "105cef58",
   "metadata": {},
   "outputs": [],
   "source": []
  }
 ],
 "metadata": {
  "kernelspec": {
   "display_name": "Python 3",
   "language": "python",
   "name": "python3"
  },
  "language_info": {
   "codemirror_mode": {
    "name": "ipython",
    "version": 3
   },
   "file_extension": ".py",
   "mimetype": "text/x-python",
   "name": "python",
   "nbconvert_exporter": "python",
   "pygments_lexer": "ipython3",
   "version": "3.8.8"
  }
 },
 "nbformat": 4,
 "nbformat_minor": 5
}
